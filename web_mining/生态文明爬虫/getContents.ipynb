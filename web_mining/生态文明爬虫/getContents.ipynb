{
 "cells": [
  {
   "cell_type": "markdown",
   "metadata": {
    "collapsed": true
   },
   "source": [
    "### 导入模块requests"
   ]
  },
  {
   "cell_type": "code",
   "execution_count": null,
   "metadata": {},
   "outputs": [],
   "source": [
    "import  requests\n",
    "from bs4 import BeautifulSoup"
   ]
  },
  {
   "cell_type": "markdown",
   "metadata": {},
   "source": [
    "### 定义函数"
   ]
  },
  {
   "cell_type": "code",
   "execution_count": 2,
   "metadata": {
    "pycharm": {
     "name": "#%%\n"
    }
   },
   "outputs": [],
   "source": [
    "def getHtmlText(url):\n",
    "    r = requests.get(url)\n",
    "    r.encoding = r.apparent_encoding\n",
    "    return r.text"
   ]
  },
  {
   "cell_type": "code",
   "execution_count": 3,
   "metadata": {
    "pycharm": {
     "name": "#%%\n"
    },
    "scrolled": false
   },
   "outputs": [
    {
     "name": "stdout",
     "output_type": "stream",
     "text": [
      "<!DOCTYPE html PUBLIC \"-//W3C//DTD XHTML 1.0 Transitional//EN\" \"http://www.w3.org/TR/xhtml1/DTD/xhtml1-transitional.dtd\">\n",
      "\n",
      "<html lang=\"utf-8\" xmlns=\"http://www.w3.org/1999/xhtml\">\n",
      "<head>\n",
      "<meta content=\"text/html;charset=utf-8\" http-equiv=\"content-type\"/>\n",
      "<meta content=\"utf-8\" http-equiv=\"content-language\"/>\n",
      "<title>《习近平关于社会主义生态文明建设论述摘编》--理论--人民网</title>\n",
      "<meta content=\"all\" name=\"robots\"/>\n",
      "<meta content=\"\" name=\"description\"/>\n",
      "<meta content=\"\" name=\"keywords\"/>\n",
      "<meta content=\"1\" name=\"filetype\"/>\n",
      "<meta content=\"1\" name=\"publishedtype\"/>\n",
      "<meta content=\"2\" name=\"pagetype\"/>\n",
      "<meta content=\"417224\" name=\"catalogs\"/>\n",
      "<link href=\"/img/MAIN/2014/08/114790/tushulianzai20140827.css\" media=\"all\" rel=\"stylesheet\" rev=\"stylesheet\" type=\"text/css\"/>\n",
      "<script src=\"/img/MAIN/2014/08/114790/js_library/jquery-1.7.1.min.js\" type=\"text/javascript\"></script>\n",
      "<script language=\"javascript\" src=\"/img/MAIN/2012/08/112318/jcarousellite_1.0.1.min.js\" type=\"text/javascript\"></script>\n",
      "</head>\n",
      "<body>\n",
      "<div class=\"top_nav_c\">\n",
      "<div class=\"top_nav m0 w980\"><a href=\"http://www.people.com.cn\" target=\"_blank\"><img alt=\"\" src=\"/img/MAIN/2014/08/114790/images/rmw_logo.jpg\"/></a><span></span>\n",
      "</div>\n",
      "</div>\n",
      "<div class=\"x_nav clearfix\"><a href=\"http://cpc.people.com.cn/\">中国共产党新闻</a> &gt;&gt; <a href=\"http://theory.people.com.cn/\">理论</a> &gt;&gt; <a href=\"http://theory.people.com.cn/GB/68294/index.html\">理论书库</a> &gt;&gt; <a href=\"http://theory.people.com.cn/GB/68294/417224/index.html\">《习近平关于社会主义生态文明建设论述摘编》</a></div>\n",
      "<div class=\"content clearfix clear\">\n",
      "<!--left-->\n",
      "<div class=\"left fl\">\n",
      "<span><img alt=\"\" height=\"303\" src=\"/NMediaFile/2018/0302/MAIN201803021357514540430119977.jpg\" width=\"228\"/></span>\n",
      "<p> </p>\n",
      "<!-- Baidu Button BEGIN -->\n",
      "<div class=\"bdshare_t bds_tools get-codes-bdshare\" id=\"bdshare\">\n",
      "<a class=\"bds_people\">\n",
      "<a class=\"bds_tsina\"></a>\n",
      "<a class=\"bds_qzone\"></a>\n",
      "<a class=\"bds_tqq\"></a>\n",
      "<a class=\"bds_renren\"></a>\n",
      "<a class=\"bds_tsohu\"></a>\n",
      "<a class=\"bds_t163\"></a>\n",
      "<a class=\"bds_mshare\"></a>\n",
      "<a class=\"shareCount\"></a>\n",
      "</a></div>\n",
      "<script data=\"type=tools&amp;uid=285750\" id=\"bdshare_js\" type=\"text/javascript\"></script>\n",
      "<script id=\"bdshell_js\" type=\"text/javascript\"></script>\n",
      "<script type=\"text/javascript\">\n",
      "\tvar bds_config = {'snsKey':{'tsina':'2672193106','tqq':'b6c906fd723544f5a398d65d0b2638ba'}};\n",
      "\tdocument.getElementById(\"bdshell_js\").src = \"http://share.baidu.com/static/js/shell_v2.js?cdnversion=\" + new Date().getHours();\n",
      "</script>\n",
      "<!-- Baidu Button END -->\n",
      "</div>\n",
      "<!--center-->\n",
      "<div class=\"center fl\">\n",
      "<h1>《习近平关于社会主义生态文明建设论述摘编》</h1>\n",
      "<p>　　中共中央文献研究室 编<br/>\n",
      "　　出版时间：2017年9月 </p>\n",
      "<div class=\"title\"><h3>内容简介</h3></div>\n",
      "<div class=\"jianjie\"><font size=\"2.5\">　　习近平同志关于社会主义生态文明建设的一系列重要论述，立意高远，内涵丰富，思想深刻，对于我们深刻认识生态文明建设的重大意义，坚持和贯彻新发展理念，正确处理好经济发展同生态环境保护的关系，具有十分重要的指导意义。</font><br/><font size=\"2.5\">　　本书内容，摘自习近平同志二��一二年十一月十五日至二��一七年九月十一日期间的讲话、报告、谈话、指示、批示、贺信等八十多篇重要文献，分七个专题，共计二百五十九段论述。其中许多论述是第一次公开发表。</font><br/></div>\n",
      "</div>\n",
      "<!--right-->\n",
      "<div class=\"right fr\">\n",
      "<h3>出版说明</h3>\n",
      "<p><font size=\"2.5\">　　党的十八大以来，以习近平同志为核心的党中央高度重视社会主义生态文明建设，坚持把生态文明建设作为统筹推进“五位一体”总体布局和协调推进“四个全面”战略布局的重要内容，坚持节约资源和保护环境的基本国策，坚持绿色发展，把生态文明建设融入经济建设、政治建设、文化建设、社会建设各方面和全过程，加大生态环境保护建设力度，推动生态文明建设在重点突破中实现整体推进。</font></p>\n",
      "<h3>热门文章</h3>\n",
      "<ul><li><a href=\"http://cpc.people.com.cn/xuexi/n1/2018/0223/c385476-29830095.html\" target=\"_blank\">环境就是民生，青山就是美丽</a></li>\n",
      "<li><a href=\"http://cpc.people.com.cn/xuexi/n1/2018/0224/c385476-29831795.html\" target=\"_blank\">坚持绿色发展是发展观的一场深刻革命</a></li>\n",
      "</ul>\n",
      "</div>\n",
      "</div>\n",
      "<div class=\"p1_content\">\n",
      "<h3><img alt=\"\" border=\"0\" src=\"/img/MAIN/2014/08/114790/images/title.jpg\"/></h3><div class=\"p1_c clearfix\"><b><font size=\"4\">一、建设生态文明，关系人民福祉，关乎民族未来</font></b><span style=\"font-size: 12px;\"> </span><div><span style=\"font-size: 12px;\"><br/></span><div style=\"font-size: 12px;\">　　纵观世界发展史，保护生态环境就是保护生产力，改善生态环境就是发展生产力。良好生态环境是最公平的公共产品，是最普惠的民生福祉。对人的生存来说，金山银山固然重要，但绿水青山是人民幸福生活的重要内容，是金钱不能代替的。你挣到了钱，但空气、饮用水都不合格，哪有什么幸福可言。\n",
      "\n",
      "</div><div style=\"text-align: right; font-size: 12px;\"> ――《在海南考察工作结束时的讲话》（2013年4月10日）</div></div>\n",
      "</div></div></body></html>\n",
      "<p class=\"tr\"><a href=\"http://theory.people.com.cn/n1/2018/0223/c417224-29830240.html\" target=\"_blank\">阅读全部</a></p><div class=\"p1_c clearfix\"><b><font size=\"4\">二、贯彻新发展理念，推动形成绿色发展方式和生活方式</font></b><span style=\"font-size: 12px;\"> </span><div><span style=\"font-size: 12px;\"><br/></span><div style=\"font-size: 12px;\">　　生态环境保护的成败，归根结底取决于经济结构和经济发展方式。经济发展不应是对资源和生态环境的竭泽而渔，生态环境保护也不应是舍弃经济发展的缘木求鱼，而是要坚持在发展中保护、在保护中发展，实现经济社会发展与人口、资源、环境相协调，不断提高资源利用水平，加快构建绿色生产体系，大力增强全社会节约意识、环保意识、生态意识。\n",
      "\n",
      "</div><div style=\"text-align: right; font-size: 12px;\"> ――《在海南考察工作结束时的讲话》（2013年4月10日）</div></div>\n",
      "</div>\n",
      "<p class=\"tr\"><a href=\"http://theory.people.com.cn/n1/2018/0224/c417224-29831713.html\" target=\"_blank\">阅读全部</a></p><div class=\"p1_c clearfix\"><b><font size=\"4\">三、按照系统工程的思路，全方位、全地域、全过程开展生态环境保护建设</font></b><span style=\"font-size: 12px;\"> </span><div><span style=\"font-size: 12px;\"><br/></span><div style=\"font-size: 12px;\">　　要大力节约集约利用资源，推动资源利用方式根本转变，加强全过程节约管理，大幅降低能源、水、土地消耗强度。要控制能源消费总量，加强节能降耗，支持节能低碳产业和新能源、可再生能源发展，确保国家能源安全。要加强水源地保护和用水总量管理，推进水循环利用，建设节水型社会。要严守耕地保护红线，严格保护耕地特别是基本农田，严格土地用途管制。要加强矿产资源勘查、保护、合理开发，提高矿产资源勘查合理开采和综合利用水平。要大力发展循环经济，促进生产、流通、消费过程的减量化、再利用、资源化。\n",
      "\n",
      "</div><div style=\"text-align: right; font-size: 12px;\"> ――《在十八届中央政治局第六次集体学习时的讲话》（2013年5月24日）</div></div>\n",
      "</div>\n",
      "<p class=\"tr\"><a href=\"http://theory.people.com.cn/n1/2018/0226/c417224-29834556.html\" target=\"_blank\">阅读全部</a></p><div class=\"p1_c clearfix\"><b><font size=\"4\">四、环境保护和治理要以解决损害群众健康突出环境问题为重点</font></b><span style=\"font-size: 12px;\"> </span><div><span style=\"font-size: 12px;\"><br/></span><div style=\"font-size: 12px;\">　　绿水青山不仅是金山银山，也是人民群众健康的重要保障。对生态环境污染问题，各级党委和政府必须高度重视，要正视问题、着力解决问题，而不要去掩盖问题。群众天天生活在环境之中，对生态环境问题采取掩耳盗铃的办法是行不通的。党中央对生态环境保护高度重视，不仅制定了一系列文件、提出了明确要求，而且组织开展了环境督察，目的就是要督促大家负起责任，加紧把生态环境保护工作做好。要按照绿色发展理念，实行最严格的生态环境保护制度，建立健全环境与健康监测、调查、风险评估制度，重点抓好空气、土壤、水污染的防治，加快推进国土绿化，治理和修复土壤特别是耕地污染，全面加强水源涵养和水质保护，综合整治大气污染特别是雾霾问题，全面整治工业污染源，切实解决影响人民群众健康的突出环境问题。\n",
      "\n",
      "</div><div style=\"text-align: right; font-size: 12px;\"> ――《在全国卫生与健康大会上的讲话》（2016年8月19日）</div></div>\n",
      "</div>\n",
      "<p class=\"tr\"><a href=\"http://theory.people.com.cn/n1/2018/0228/c417224-29838705.html\" target=\"_blank\">阅读全部</a></p><div class=\"p1_c clearfix\"><b><font size=\"4\">五、完善生态文明制度体系，用最严格的制度、最严密的法治保护生态环境</font></b><span style=\"font-size: 12px;\"> </span><div><span style=\"font-size: 12px;\"><br/></span><div style=\"font-size: 12px;\">　　生态红线的观念一定要牢固树立起来。我们的生态环境问题已经到了很严重的程度，非采取最严厉的措施不可，不然不仅生态环境恶化的总态势很难从根本上得到扭转，而且我们设想的其他生态环境发展目标也难以实现。要精心研究和论证，究竟哪些要列入生态红线，如何从制度上保障生态红线，把良好生态系统尽可能保护起来。列入后全党全国就要一体遵行，决不能逾越。在生态环境保护问题上，就是要不能越雷池一步，否则就应该受到惩罚。\n",
      "\n",
      "</div><div style=\"text-align: right; font-size: 12px;\"> ――《在十八届中央政治局第六次集体学习时的讲话》（2013年5月24日）</div></div>\n",
      "</div>\n",
      "<p class=\"tr\"><a href=\"http://theory.people.com.cn/n1/2018/0305/c417224-29847672.html\" target=\"_blank\">阅读全部</a></p><div class=\"p1_c clearfix\"><b><font size=\"4\">六、强化公民环境意识，把建设美丽中国化为人民自觉行动</font></b><span style=\"font-size: 12px;\"> </span><div><span style=\"font-size: 12px;\"><br/></span><div style=\"font-size: 12px;\">　　倡导推广绿色消费。生态文明建设同每个人息息相关，每个人都应该做践行者、推动者。要强化公民环境意识，倡导勤俭节约、绿色低碳消费，推广节能、节水用品和绿色环保家具、建材等，推广绿色低碳出行，鼓励引导消费者购买节能环保再生产品，推动形成节约适度、绿色低碳、文明健康的生活方式和消费模式。要加强生态文明宣传教育，把珍惜生态、保护资源、爱护环境等内容纳入国民教育和培训体系，纳入群众性精神文明创建活动，在全社会牢固树立生态文明理念，形成全社会共同参与的良好风尚。\n",
      "\n",
      "</div><div style=\"text-align: right; font-size: 12px;\"> ――《在十八届中央政治局第四十一次集体学习时的讲话》（2017年5月26日）</div></div>\n",
      "</div>\n",
      "<p class=\"tr\"><a href=\"http://theory.people.com.cn/n1/2018/0306/c417224-29850375.html\" target=\"_blank\">阅读全部</a></p><div class=\"p1_c clearfix\"><b><font size=\"4\">七、\n",
      "积极参与国际合作，携手共建生态良好的地球美好家园</font></b><span style=\"font-size: 12px;\"> </span><div><span style=\"font-size: 12px;\"><br/></span><div style=\"font-size: 12px;\">　　中国坚持正确义利观，积极参与气候变化国际合作。多年来，中国政府认真落实气候变化领域南南合作政策承诺，支持发展中国家特别是最不发达国家、内陆发展中国家、小岛屿发展中国家应对气候变化挑战。为加大支持力度，中国在今年九月宣布设立二百亿元人民币的中国气候变化南南合作基金。中国将于明年启动在发展中国家开展十个低碳示范区、一百个减缓和适应气候变化项目及一千个应对气候变化培训名额的合作项目，继续推进清洁能源、防灾减灾、生态保护、气候适应型农业、低碳智慧型城市建设等领域的国际合作，并帮助他们提高融资能力。\n",
      "\n",
      "</div><div style=\"text-align: right; font-size: 12px;\"> ――《携手构建合作共赢、公平合理的气候变化治理机制》（2015年11月30日），人民出版社单行本，第7-8页</div></div>\n",
      "</div>\n",
      "<p class=\"tr\"><a href=\"http://theory.people.com.cn/n1/2018/0307/c417224-29852977.html\" target=\"_blank\">阅读全部</a></p>\n",
      "\n",
      "<!--p2 content-->\n",
      "<script type=\"text/JavaScript\">\n",
      "$(document).ready(function(){\n",
      "\t$(\".jCarouselLite\").jCarouselLite({\n",
      "    btnNext: \".prev\",\n",
      "    btnPrev: \".next\",\n",
      "\tvisible:6,\n",
      "\tspeed: 1000,\n",
      "\tauto: 2000\n",
      "    });\n",
      "});\n",
      "</script>\n",
      "<div class=\"p2_content clearfix\">\n",
      "<h3>最新连载</h3>\n",
      "<img alt=\"\" border=\"0\" class=\"fl prev\" src=\"/img/MAIN/2014/08/114790/images/left_b.jpg\"/>\n",
      "<div class=\"jCarouselLite\">\n",
      "<ul><li><a href=\"http://theory.people.com.cn/GB/68294/417227/index.html\" target=\"_blank\"><img alt=\"\" height=\"149\" src=\"/NMediaFile/2018/0222/MAIN201802220853049915932762124.jpg\" width=\"104\"/></a> </li>\n",
      "<li><a href=\"http://theory.people.com.cn/GB/68294/416915/index.html\" target=\"_blank\"><img alt=\"\" height=\"149\" src=\"/NMediaFile/2018/0307/MAIN201803071428127102584618963.jpg\" width=\"104\"/></a> </li>\n",
      "<li><a href=\"http://theory.people.com.cn/GB/68294/417224/index.html\" target=\"_blank\"><img alt=\"\" height=\"149\" src=\"/NMediaFile/2018/0307/MAIN201803071426009093203865060.jpg\" width=\"104\"/></a> </li>\n",
      "<li><a href=\"http://theory.people.com.cn/GB/68294/408256/index.html\" target=\"_blank\"><img alt=\"\" height=\"149\" src=\"/NMediaFile/2018/0117/MAIN201801171626470820692586056.jpg\" width=\"104\"/></a> </li>\n",
      "<li><a href=\"http://theory.people.com.cn/GB/68294/412914/index.html\" target=\"_blank\"><img alt=\"\" height=\"149\" src=\"/NMediaFile/2017/0615/MAIN201706150916433987339156419.jpg\" width=\"104\"/></a> </li>\n",
      "<li><a href=\"http://theory.people.com.cn/GB/68294/409653/index.html\" target=\"_blank\"><img alt=\"\" height=\"149\" src=\"/NMediaFile/2017/0125/MAIN201701251001118337144872582.jpg\" width=\"104\"/></a> </li>\n",
      "<li><a href=\"http://theory.people.com.cn/GB/68294/406714/index.html\" target=\"_blank\"><img alt=\"\" height=\"149\" src=\"/NMediaFile/2016/1207/MAIN201612071023051417154577090.png\" width=\"104\"/></a> </li>\n",
      "<li><a href=\"http://theory.people.com.cn/GB/68294/403805/index.html\" target=\"_blank\"><img alt=\"\" height=\"149\" src=\"/NMediaFile/2016/1207/MAIN201612071023589394847479957.png\" width=\"104\"/></a> </li>\n",
      "<li><a href=\"http://theory.people.com.cn/GB/68294/402884/index.html\" target=\"_blank\"><img alt=\"\" height=\"149\" src=\"/NMediaFile/2016/1207/MAIN201612071025019016082911849.jpg\" width=\"104\"/></a> </li>\n",
      "<li><a href=\"http://theory.people.com.cn/GB/68294/399856/index.html\" target=\"_blank\"><img alt=\"\" height=\"149\" src=\"/NMediaFile/2016/1207/MAIN201612071026088408950422560.jpg\" width=\"104\"/></a> </li>\n",
      "<li><a href=\"http://theory.people.com.cn/GB/68294/391839/index.html\" target=\"_blank\"><img alt=\"\" height=\"149\" src=\"/NMediaFile/2014/1226/MAIN201412261108006121527047413.jpg\" width=\"104\"/></a> </li>\n",
      "<li><a href=\"http://theory.people.com.cn/GB/68294/396001/index.html\" target=\"_blank\"><img alt=\"\" height=\"149\" src=\"/NMediaFile/2016/1207/MAIN201612071027507991478632966.jpg\" width=\"104\"/></a> </li>\n",
      "<li><a href=\"http://theory.people.com.cn/GB/68294/394175/\" target=\"_blank\"><img alt=\"\" height=\"149\" src=\"/NMediaFile/2016/1207/MAIN201612071031508568382744048.jpg\" width=\"104\"/></a> </li>\n",
      "<li><a href=\"http://theory.people.com.cn/GB/68294/390916/index.html\" target=\"_blank\"><img alt=\"\" height=\"149\" src=\"/NMediaFile/2014/1202/MAIN201412020839324796931731447.jpg\" width=\"104\"/></a> </li>\n",
      "<li><a href=\"http://theory.people.com.cn/GB/68294/410789/index.html\" target=\"_blank\"><img alt=\"\" height=\"149\" src=\"/NMediaFile/2017/0216/MAIN201702161017550177837915721.jpg\" width=\"104\"/></a><a href=\"http://theory.people.com.cn/GB/68294/410789/index.html\" target=\"_blank\"></a></li>\n",
      "<li><a href=\"http://theory.people.com.cn/GB/68294/392503/index.html\" target=\"_blank\"><img alt=\"\" height=\"149\" src=\"/NMediaFile/2016/1207/MAIN201612071037318861115633244.jpg\" width=\"104\"/></a> </li>\n",
      "<li><a href=\"http://theory.people.com.cn/GB/68294/389908/index.html\" target=\"_blank\"><img alt=\"\" height=\"149\" src=\"/NMediaFile/2014/1202/MAIN201412020839323126692884183.jpg\" width=\"104\"/></a> </li>\n",
      "<li><a href=\"http://theory.people.com.cn/GB/68294/388627/index.html\" target=\"_blank\"><img alt=\"\" height=\"149\" src=\"/NMediaFile/2014/0923/MAIN201409230851538436164243443.jpg\" width=\"104\"/></a> </li>\n",
      "<li><a href=\"http://theory.people.com.cn/GB/68294/370810/index.html\" target=\"_blank\"><img alt=\"\" height=\"149\" src=\"/NMediaFile/2014/0828/MAIN201408280931130187044767881.jpg\" width=\"104\"/></a> </li>\n",
      "<li><a href=\"http://qzlx.people.com.cn/GB/376101/389584/index.html\" target=\"_blank\"><img alt=\"\" height=\"149\" src=\"/NMediaFile/2016/1207/MAIN201612071041361551091181912.jpg\" width=\"104\"/></a> </li>\n",
      "<li><a href=\"http://theory.people.com.cn/GB/68294/387265/index.html\" target=\"_blank\"><img alt=\"\" height=\"149\" src=\"/NMediaFile/2014/0923/MAIN201409230851535105864105842.jpg\" width=\"104\"/></a> </li>\n",
      "<li><a href=\"http://theory.people.com.cn/GB/68294/386509/index.html\" target=\"_blank\"><img alt=\"\" height=\"149\" src=\"/NMediaFile/2014/0923/MAIN201409230851536675329237576.jpg\" width=\"104\"/></a> </li>\n",
      "<li><a href=\"http://dangshi.people.com.cn/GB/146570/389101/index.html\" target=\"_blank\"><img alt=\"\" height=\"149\" src=\"/NMediaFile/2014/0916/MAIN201409161520233298981509740.jpg\" width=\"104\"/></a> </li>\n",
      "<li><a href=\"http://theory.people.com.cn/GB/68294/385438/index.html\" target=\"_blank\"><img alt=\"\" height=\"149\" src=\"/NMediaFile/2014/0828/MAIN201408280931131726010337275.jpg\" width=\"104\"/></a> </li>\n",
      "<li><a href=\"http://theory.people.com.cn/GB/68294/364627/index.html\" target=\"_blank\"><img alt=\"\" height=\"149\" src=\"/NMediaFile/2014/0828/MAIN201408280932461496125400681.jpg\" width=\"104\"/></a> </li>\n",
      "<li><a href=\"http://theory.people.com.cn/GB/68294/359514/index.html\" target=\"_blank\"><img alt=\"\" height=\"149\" src=\"/NMediaFile/2014/0828/MAIN201408280933557704211485444.jpg\" width=\"104\"/></a> </li>\n",
      "<li><a href=\"http://dangjian.people.com.cn/GB/135685/349241/\" target=\"_blank\"><img alt=\"\" height=\"149\" src=\"/NMediaFile/2014/0828/MAIN201408280934194956945024387.jpg\" width=\"104\"/></a> </li>\n",
      "</ul>\n",
      "</div>\n",
      "<img alt=\"\" border=\"0\" class=\"fr next\" src=\"/img/MAIN/2014/08/114790/images/right_b.jpg\"/>\n",
      "</div>\n",
      "<div class=\"copyright clear\">\n",
      "<style type=\"text/css\">\r\n",
      "#copyright{width:980px; margin:0px auto; font-size:12px; text-align:center; padding:20px 0; line-height:180%; clear:both;}\r\n",
      "</style>\n",
      "<div id=\"copyright\">人 民 网 版 权 所 有 ，未 经 书 面 授 权 禁 止 使 用<br>\r\n",
      "Copyright © 1997-2018 by www.people.com.cn. all rights reserved</br></div>\n",
      "</div>\n",
      "<script language=\"javascript\" src=\"/css/2010tianrun/webdig_test.js\" type=\"text/javascript\"></script>\n",
      "\n",
      "\n"
     ]
    }
   ],
   "source": [
    "rooturl = \"http://theory.people.com.cn/GB/68294/417224/index.html?tdsourcetag=s_pctim_aiomsg\"\n",
    "html = getHtmlText(rooturl)\n",
    "soup = BeautifulSoup( html , \"html.parser\")\n",
    "print(soup)"
   ]
  },
  {
   "cell_type": "markdown",
   "metadata": {},
   "source": [
    "### 获得urls"
   ]
  },
  {
   "cell_type": "code",
   "execution_count": 4,
   "metadata": {
    "pycharm": {
     "name": "#%%\n"
    },
    "scrolled": true
   },
   "outputs": [
    {
     "name": "stdout",
     "output_type": "stream",
     "text": [
      "<class 'bs4.element.ResultSet'>\n",
      "['http://theory.people.com.cn/n1/2018/0223/c417224-29830240.html', 'http://theory.people.com.cn/n1/2018/0224/c417224-29831713.html', 'http://theory.people.com.cn/n1/2018/0226/c417224-29834556.html', 'http://theory.people.com.cn/n1/2018/0228/c417224-29838705.html', 'http://theory.people.com.cn/n1/2018/0305/c417224-29847672.html', 'http://theory.people.com.cn/n1/2018/0306/c417224-29850375.html', 'http://theory.people.com.cn/n1/2018/0307/c417224-29852977.html']\n"
     ]
    }
   ],
   "source": [
    "urls = []\n",
    "ps = soup.find_all(name= 'p', attrs= {'class' : 'tr'})\n",
    "print(type(ps))\n",
    "for item in ps:\n",
    "    a = item.find('a')\n",
    "    urls.append(a.attrs['href'])\n",
    "print(urls)\n"
   ]
  },
  {
   "cell_type": "markdown",
   "metadata": {},
   "source": [
    "### 获得标题"
   ]
  },
  {
   "cell_type": "code",
   "execution_count": 5,
   "metadata": {
    "pycharm": {
     "name": "#%%\n"
    }
   },
   "outputs": [
    {
     "name": "stdout",
     "output_type": "stream",
     "text": [
      "七、积极参与国际合作，携手共建生态良好的地球美好家园\n"
     ]
    }
   ],
   "source": [
    "introductions = []\n",
    "fs = soup.find_all(name= 'font', attrs= {'size' : 4})\n",
    "# print(fs)\n",
    "for item in fs:\n",
    "    # print(item.string)\n",
    "    introductions.append(item.string)\n",
    "#去除最一个的换行\n",
    "introductions[6] = introductions[6][0:2] + introductions[6][3:]\n",
    "print(introductions[6])"
   ]
  },
  {
   "cell_type": "markdown",
   "metadata": {},
   "source": [
    "### 获得来源"
   ]
  },
  {
   "cell_type": "code",
   "execution_count": 6,
   "metadata": {
    "pycharm": {
     "name": "#%%\n"
    }
   },
   "outputs": [
    {
     "name": "stdout",
     "output_type": "stream",
     "text": [
      "《携手构建合作共赢、公平合理的气候变化治理机制》（2015年11月30日），人民出版社单行本，第7-8页\n"
     ]
    }
   ],
   "source": [
    "sources = []\n",
    "divs = soup.find_all(name= 'div', attrs= {'style' : 'text-align: right; font-size: 12px;'})\n",
    "# print(divs)\n",
    "for item in divs:\n",
    "    sources.append(item.string[3:])\n",
    "print(sources[6])"
   ]
  },
  {
   "cell_type": "markdown",
   "metadata": {},
   "source": [
    "### 获得介绍2 "
   ]
  },
  {
   "cell_type": "code",
   "execution_count": 7,
   "metadata": {
    "pycharm": {
     "name": "#%%\n"
    },
    "scrolled": true
   },
   "outputs": [
    {
     "name": "stdout",
     "output_type": "stream",
     "text": [
      "['纵观世界发展史，保护生态环境就是保护生产力，改善生态环境就是发展生产力。良好生态环境是最公平的公共产品，是最普惠的民生福祉。对人的生存来说，金山银山固然重要，但绿水青山是人民幸福生活的重要内容，是金钱不能代替的。你挣到了钱，但空气、饮用水都不合格，哪有什么幸福可言。', '生态环境保护的成败，归根结底取决于经济结构和经济发展方式。经济发展不应是对资源和生态环境的竭泽而渔，生态环境保护也不应是舍弃经济发展的缘木求鱼，而是要坚持在发展中保护、在保护中发展，实现经济社会发展与人口、资源、环境相协调，不断提高资源利用水平，加快构建绿色生产体系，大力增强全社会节约意识、环保意识、生态意识。', '要大力节约集约利用资源，推动资源利用方式根本转变，加强全过程节约管理，大幅降低能源、水、土地消耗强度。要控制能源消费总量，加强节能降耗，支持节能低碳产业和新能源、可再生能源发展，确保国家能源安全。要加强水源地保护和用水总量管理，推进水循环利用，建设节水型社会。要严守耕地保护红线，严格保护耕地特别是基本农田，严格土地用途管制。要加强矿产资源勘查、保护、合理开发，提高矿产资源勘查合理开采和综合利用水平。要大力发展循环经济，促进生产、流通、消费过程的减量化、再利用、资源化。', '绿水青山不仅是金山银山，也是人民群众健康的重要保障。对生态环境污染问题，各级党委和政府必须高度重视，要正视问题、着力解决问题，而不要去掩盖问题。群众天天生活在环境之中，对生态环境问题采取掩耳盗铃的办法是行不通的。党中央对生态环境保护高度重视，不仅制定了一系列文件、提出了明确要求，而且组织开展了环境督察，目的就是要督促大家负起责任，加紧把生态环境保护工作做好。要按照绿色发展理念，实行最严格的生态环境保护制度，建立健全环境与健康监测、调查、风险评估制度，重点抓好空气、土壤、水污染的防治，加快推进国土绿化，治理和修复土壤特别是耕地污染，全面加强水源涵养和水质保护，综合整治大气污染特别是雾霾问题，全面整治工业污染源，切实解决影响人民群众健康的突出环境问题。', '生态红线的观念一定要牢固树立起来。我们的生态环境问题已经到了很严重的程度，非采取最严厉的措施不可，不然不仅生态环境恶化的总态势很难从根本上得到扭转，而且我们设想的其他生态环境发展目标也难以实现。要精心研究和论证，究竟哪些要列入生态红线，如何从制度上保障生态红线，把良好生态系统尽可能保护起来。列入后全党全国就要一体遵行，决不能逾越。在生态环境保护问题上，就是要不能越雷池一步，否则就应该受到惩罚。', '倡导推广绿色消费。生态文明建设同每个人息息相关，每个人都应该做践行者、推动者。要强化公民环境意识，倡导勤俭节约、绿色低碳消费，推广节能、节水用品和绿色环保家具、建材等，推广绿色低碳出行，鼓励引导消费者购买节能环保再生产品，推动形成节约适度、绿色低碳、文明健康的生活方式和消费模式。要加强生态文明宣传教育，把珍惜生态、保护资源、爱护环境等内容纳入国民教育和培训体系，纳入群众性精神文明创建活动，在全社会牢固树立生态文明理念，形成全社会共同参与的良好风尚。', '中国坚持正确义利观，积极参与气候变化国际合作。多年来，中国政府认真落实气候变化领域南南合作政策承诺，支持发展中国家特别是最不发达国家、内陆发展中国家、小岛屿发展中国家应对气候变化挑战。为加大支持力度，中国在今年九月宣布设立二百亿元人民币的中国气候变化南南合作基金。中国将于明年启动在发展中国家开展十个低碳示范区、一百个减缓和适应气候变化项目及一千个应对气候变化培训名额的合作项目，继续推进清洁能源、防灾减灾、生态保护、气候适应型农业、低碳智慧型城市建设等领域的国际合作，并帮助他们提高融资能力。']\n"
     ]
    }
   ],
   "source": [
    "introductions2 = []\n",
    "divs = soup.find_all(name= 'div', attrs= {'style' : 'font-size: 12px;' })\n",
    "# print(divs)\n",
    "for item in divs:\n",
    "    introductions2.append(item.string[2:-2])\n",
    "print(introductions2)"
   ]
  },
  {
   "cell_type": "markdown",
   "metadata": {},
   "source": [
    "### 输出到excel"
   ]
  },
  {
   "cell_type": "code",
   "execution_count": 8,
   "metadata": {
    "pycharm": {
     "name": "#%%\n"
    }
   },
   "outputs": [
    {
     "name": "stdout",
     "output_type": "stream",
     "text": [
      "ok\n"
     ]
    }
   ],
   "source": [
    "output = open('total.xls','w',encoding='gb18030')\n",
    "output.write('链接')\n",
    "output.write('\\t')\n",
    "output.write('来源')\n",
    "output.write('\\t')\n",
    "output.write('标题')\n",
    "output.write('\\t')\n",
    "output.write('简介')\n",
    "output.write('\\n')\n",
    "for i in range(len(urls)):\n",
    "    # print(i)\n",
    "    output.write(urls[i])\n",
    "    output.write('\\t')\n",
    "    output.write(sources[i])\n",
    "    output.write('\\t')\n",
    "    output.write(introductions[i])\n",
    "    output.write('\\t')\n",
    "    output.write(introductions2[i])\n",
    "    output.write('\\t')\n",
    "    output.write('\\n')\n",
    "output.close()\n",
    "print(\"ok\")\n",
    "\n"
   ]
  },
  {
   "cell_type": "code",
   "execution_count": 9,
   "metadata": {
    "pycharm": {
     "name": "#%%\n"
    }
   },
   "outputs": [
    {
     "name": "stdout",
     "output_type": "stream",
     "text": [
      "一、建设生态文明，关系人民福祉，关乎民族未来.xlsok\n",
      "二、贯彻新发展理念，推动形成绿色发展方式和生活方式.xlsok\n",
      "三、按照系统工程的思路，全方位、全地域、全过程开展生态环境保护建设.xlsok\n",
      "四、环境保护和治理要以解决损害群众健康突出环境问题为重点.xlsok\n",
      "五、完善生态文明制度体系，用最严格的制度、最严密的法治保护生态环境.xlsok\n",
      "六、强化公民环境意识，把建设美丽中国化为人民自觉行动.xlsok\n",
      "七、积极参与国际合作，携手共建生态良好的地球美好家园.xlsok\n"
     ]
    }
   ],
   "source": [
    "for i in range(len(urls)):\n",
    "    #第二层\n",
    "    html = getHtmlText(urls[i])\n",
    "    soup = BeautifulSoup( html , \"html.parser\")\n",
    "    # print(soup)\n",
    "    ps = soup.find_all(name= 'p', attrs= {'style' : 'text-indent: 2em;'})\n",
    "    # print(ps[56])\n",
    "    abstractString = ''\n",
    "    Second_source_list = []\n",
    "    Second_href_list = []\n",
    "    Second_content = []\n",
    "    no_href = '无引用链接'\n",
    "    is_content_time = True # 哨兵\n",
    "    for item in ps:\n",
    "        # print(item)\n",
    "        abstract = item.find(name= 'span', attrs= {'style' : 'font-family: 楷体; text-indent: 2em; display: block;'})\n",
    "        Second_source =  item.find(name= 'span', attrs= {'style' : 'color: rgb(255, 0, 0); text-indent: 2em; display: block;'})\n",
    "        hrefs = item.find(name= 'a')\n",
    "        # print(item.string)\n",
    "        if abstract is not None:\n",
    "            # print(abstract.string)\n",
    "            abstractString = abstractString + abstract.string\n",
    "        elif Second_source is not None: #来源，每组content都有\n",
    "            # print(Second_source.string)\n",
    "            if is_content_time is False:\n",
    "                is_content_time = True\n",
    "                Second_source_list.append(Second_source.string[2:])\n",
    "        elif hrefs is not None:\n",
    "            # print(hrefs.attrs['href'])\n",
    "            if is_content_time is True:\n",
    "                is_content_time = False\n",
    "                Second_href_list.append(hrefs.attrs['href'])\n",
    "                Second_content.append(hrefs.string)\n",
    "            else:\n",
    "                Second_source_list.append(\"同下\")\n",
    "                Second_href_list.append(hrefs.attrs['href'])\n",
    "                Second_content.append(hrefs.string)\n",
    "        else:\n",
    "            # print(item.string)\n",
    "            if is_content_time is True:\n",
    "                is_content_time =False\n",
    "                Second_href_list.append(no_href)\n",
    "                Second_content.append(item.string)\n",
    "            else:\n",
    "                Second_source_list.append(\"同下\")\n",
    "                Second_href_list.append(no_href)\n",
    "                Second_content.append(item.string)\n",
    "    #输出到excel\n",
    "    filename = introductions[i] + '.xls'\n",
    "    output = open( filename,'w',encoding='gb18030')\n",
    "    output.write(abstractString)\n",
    "    output.write('\\n')\n",
    "    output.write('段落内容')\n",
    "    output.write('\\t')\n",
    "    output.write('来源')\n",
    "    output.write('\\t')\n",
    "    output.write('链接')\n",
    "    output.write('\\n')\n",
    "    for i in range(len(Second_content)):\n",
    "        # print(i)\n",
    "        t = str(Second_content[i])\n",
    "        t = ''.join(t.split())\n",
    "        output.write(t)\n",
    "        output.write('\\t')\n",
    "        output.write(Second_source_list[i])\n",
    "        output.write('\\t')\n",
    "        output.write(Second_href_list[i])\n",
    "        output.write('\\t')\n",
    "        output.write('\\n')\n",
    "    output.close()\n",
    "    print(filename + \"ok\")\n"
   ]
  },
  {
   "cell_type": "code",
   "execution_count": null,
   "metadata": {},
   "outputs": [],
   "source": []
  }
 ],
 "metadata": {
  "kernelspec": {
   "display_name": "Python 3",
   "language": "python",
   "name": "python3"
  },
  "language_info": {
   "codemirror_mode": {
    "name": "ipython",
    "version": 3
   },
   "file_extension": ".py",
   "mimetype": "text/x-python",
   "name": "python",
   "nbconvert_exporter": "python",
   "pygments_lexer": "ipython3",
   "version": "3.7.4"
  },
  "toc": {
   "base_numbering": 1,
   "nav_menu": {},
   "number_sections": true,
   "sideBar": true,
   "skip_h1_title": false,
   "title_cell": "Table of Contents",
   "title_sidebar": "Contents",
   "toc_cell": false,
   "toc_position": {},
   "toc_section_display": true,
   "toc_window_display": true
  }
 },
 "nbformat": 4,
 "nbformat_minor": 1
}
